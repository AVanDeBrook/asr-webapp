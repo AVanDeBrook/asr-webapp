{
 "cells": [
  {
   "cell_type": "code",
   "execution_count": 9,
   "metadata": {},
   "outputs": [
    {
     "name": "stdout",
     "output_type": "stream",
     "text": [
      "Requirement already satisfied: pyvips in /home/tyler/.local/lib/python3.8/site-packages (2.2.1)\n",
      "Requirement already satisfied: cffi>=1.0.0 in /home/tyler/.local/lib/python3.8/site-packages (from pyvips) (1.15.1)\n",
      "Requirement already satisfied: pycparser in /home/tyler/.local/lib/python3.8/site-packages (from cffi>=1.0.0->pyvips) (2.21)\n",
      "Note: you may need to restart the kernel to use updated packages.\n"
     ]
    }
   ],
   "source": [
    "%pip install pyvips"
   ]
  },
  {
   "cell_type": "code",
   "execution_count": 10,
   "metadata": {},
   "outputs": [],
   "source": [
    "import pyvips\n",
    "import shutil"
   ]
  },
  {
   "cell_type": "code",
   "execution_count": null,
   "metadata": {},
   "outputs": [],
   "source": [
    "shutil.rmtree('../assets/output_files/', ignore_errors=True)"
   ]
  },
  {
   "cell_type": "code",
   "execution_count": 12,
   "metadata": {},
   "outputs": [
    {
     "ename": "Error",
     "evalue": "unable to call dzsave\n  dzsave: output directory ../assets/output_files exists\n",
     "output_type": "error",
     "traceback": [
      "\u001b[0;31m---------------------------------------------------------------------------\u001b[0m",
      "\u001b[0;31mError\u001b[0m                                     Traceback (most recent call last)",
      "Cell \u001b[0;32mIn [12], line 2\u001b[0m\n\u001b[1;32m      1\u001b[0m image \u001b[39m=\u001b[39m pyvips\u001b[39m.\u001b[39mImage\u001b[39m.\u001b[39mnew_from_file(\u001b[39m'\u001b[39m\u001b[39m../assets/Jacksonville SEC.tif\u001b[39m\u001b[39m'\u001b[39m)\n\u001b[0;32m----> 2\u001b[0m image\u001b[39m.\u001b[39mdzsave(\u001b[39m'\u001b[39m\u001b[39m../assets/output.dz\u001b[39m\u001b[39m'\u001b[39m, tile_size\u001b[39m=\u001b[39m\u001b[39m300\u001b[39m, depth\u001b[39m=\u001b[39mpyvips\u001b[39m.\u001b[39menums\u001b[39m.\u001b[39mForeignDzDepth\u001b[39m.\u001b[39mONETILE)\n",
      "File \u001b[0;32m~/.local/lib/python3.8/site-packages/pyvips/vimage.py:1347\u001b[0m, in \u001b[0;36mImage.__getattr__.<locals>.call_function\u001b[0;34m(*args, **kwargs)\u001b[0m\n\u001b[1;32m   1345\u001b[0m \u001b[39m@_add_doc\u001b[39m(name)\n\u001b[1;32m   1346\u001b[0m \u001b[39mdef\u001b[39;00m \u001b[39mcall_function\u001b[39m(\u001b[39m*\u001b[39margs, \u001b[39m*\u001b[39m\u001b[39m*\u001b[39mkwargs):\n\u001b[0;32m-> 1347\u001b[0m     \u001b[39mreturn\u001b[39;00m pyvips\u001b[39m.\u001b[39;49mOperation\u001b[39m.\u001b[39;49mcall(name, \u001b[39mself\u001b[39;49m, \u001b[39m*\u001b[39;49margs, \u001b[39m*\u001b[39;49m\u001b[39m*\u001b[39;49mkwargs)\n",
      "File \u001b[0;32m~/.local/lib/python3.8/site-packages/pyvips/voperation.py:305\u001b[0m, in \u001b[0;36mOperation.call\u001b[0;34m(operation_name, *args, **kwargs)\u001b[0m\n\u001b[1;32m    303\u001b[0m \u001b[39mif\u001b[39;00m vop \u001b[39m==\u001b[39m ffi\u001b[39m.\u001b[39mNULL:\n\u001b[1;32m    304\u001b[0m     vips_lib\u001b[39m.\u001b[39mvips_object_unref_outputs(op\u001b[39m.\u001b[39mvobject)\n\u001b[0;32m--> 305\u001b[0m     \u001b[39mraise\u001b[39;00m Error(\u001b[39m'\u001b[39m\u001b[39munable to call \u001b[39m\u001b[39m{0}\u001b[39;00m\u001b[39m'\u001b[39m\u001b[39m.\u001b[39mformat(operation_name))\n\u001b[1;32m    306\u001b[0m op \u001b[39m=\u001b[39m Operation(vop)\n\u001b[1;32m    308\u001b[0m \u001b[39m# attach all input refs to output x\u001b[39;00m\n",
      "\u001b[0;31mError\u001b[0m: unable to call dzsave\n  dzsave: output directory ../assets/output_files exists\n"
     ]
    }
   ],
   "source": [
    "image = pyvips.Image.new_from_file('../assets/Jacksonville SEC.tif')\n",
    "image.dzsave('../assets/output.dz', tile_size=300, depth=pyvips.enums.ForeignDzDepth.ONETILE)"
   ]
  },
  {
   "cell_type": "code",
   "execution_count": null,
   "metadata": {},
   "outputs": [],
   "source": []
  }
 ],
 "metadata": {
  "kernelspec": {
   "display_name": "Python 3",
   "language": "python",
   "name": "python3"
  },
  "language_info": {
   "codemirror_mode": {
    "name": "ipython",
    "version": 3
   },
   "file_extension": ".py",
   "mimetype": "text/x-python",
   "name": "python",
   "nbconvert_exporter": "python",
   "pygments_lexer": "ipython3",
   "version": "3.8.10"
  },
  "orig_nbformat": 4,
  "vscode": {
   "interpreter": {
    "hash": "916dbcbb3f70747c44a77c7bcd40155683ae19c65e1c03b4aa3499c5328201f1"
   }
  }
 },
 "nbformat": 4,
 "nbformat_minor": 2
}
